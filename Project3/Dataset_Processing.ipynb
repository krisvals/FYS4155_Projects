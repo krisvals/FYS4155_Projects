{
 "cells": [
  {
   "cell_type": "code",
   "execution_count": 11,
   "id": "032e9d0d-96cc-4fc5-8c4c-e167b038f72a",
   "metadata": {},
   "outputs": [
    {
     "name": "stderr",
     "output_type": "stream",
     "text": [
      "/home/Kristen/anaconda3/lib/python3.9/site-packages/xarray/core/indexes.py:234: FutureWarning: Passing method to Float64Index.get_loc is deprecated and will raise in a future version. Use index.get_indexer([item], method=...) instead.\n",
      "  indexer = self.index.get_loc(\n",
      "/home/Kristen/anaconda3/lib/python3.9/site-packages/xarray/core/indexes.py:234: FutureWarning: Passing method to Float64Index.get_loc is deprecated and will raise in a future version. Use index.get_indexer([item], method=...) instead.\n",
      "  indexer = self.index.get_loc(\n",
      "/home/Kristen/anaconda3/lib/python3.9/site-packages/xarray/core/indexes.py:234: FutureWarning: Passing method to Float64Index.get_loc is deprecated and will raise in a future version. Use index.get_indexer([item], method=...) instead.\n",
      "  indexer = self.index.get_loc(\n",
      "/home/Kristen/anaconda3/lib/python3.9/site-packages/xarray/core/indexes.py:234: FutureWarning: Passing method to Float64Index.get_loc is deprecated and will raise in a future version. Use index.get_indexer([item], method=...) instead.\n",
      "  indexer = self.index.get_loc(\n",
      "/home/Kristen/anaconda3/lib/python3.9/site-packages/xarray/core/indexes.py:234: FutureWarning: Passing method to Float64Index.get_loc is deprecated and will raise in a future version. Use index.get_indexer([item], method=...) instead.\n",
      "  indexer = self.index.get_loc(\n",
      "/home/Kristen/anaconda3/lib/python3.9/site-packages/xarray/core/indexes.py:234: FutureWarning: Passing method to Float64Index.get_loc is deprecated and will raise in a future version. Use index.get_indexer([item], method=...) instead.\n",
      "  indexer = self.index.get_loc(\n",
      "/home/Kristen/anaconda3/lib/python3.9/site-packages/xarray/core/indexes.py:234: FutureWarning: Passing method to Float64Index.get_loc is deprecated and will raise in a future version. Use index.get_indexer([item], method=...) instead.\n",
      "  indexer = self.index.get_loc(\n",
      "/home/Kristen/anaconda3/lib/python3.9/site-packages/xarray/core/indexes.py:234: FutureWarning: Passing method to Float64Index.get_loc is deprecated and will raise in a future version. Use index.get_indexer([item], method=...) instead.\n",
      "  indexer = self.index.get_loc(\n"
     ]
    }
   ],
   "source": [
    "%matplotlib inline\n",
    "import xarray as xr\n",
    "from pyproj import Proj\n",
    "import pandas as pd\n",
    "import datetime as dt\n",
    "\n",
    "\n",
    "#Streamflow gage station location in EPSG:8687\n",
    "x,y = (160787, 6721261)\n",
    "\n",
    "#Import precipitation and temperature dataset\n",
    "path = \"/home/Kristen/HydroElectric/Data/Climate/seNorge2018_2017.nc\"\n",
    "ds = xr.open_dataset(path)  # NetCDF or OPeNDAP URL\n",
    "\n",
    "# Extract a dataset closest to specified point\n",
    "dsloc = ds.sel(Y=y, X=x, method = 'nearest')\n",
    "PT1=dsloc.to_dataframe()\n",
    "PT1=PT1.reset_index(0).reset_index(drop=True)\n",
    "PT1=PT1.drop(\"time_bnds\", axis=1)\n",
    "PT1 = PT1.drop_duplicates()\n",
    "PT1[\"date\"] = pd.to_datetime(PT1[\"time\"]).dt.date\n",
    "\n",
    "\n",
    "#Import shortwave radiation dataset\n",
    "path = \"/home/Kristen/HydroElectric/Data/Climate/HySN_Surface_Downwelling_Shortwave_Radiation_2017.nc\"\n",
    "ds = xr.open_dataset(path)  # NetCDF or OPeNDAP URL\n",
    "\n",
    "# Extract a dataset closest to specified point\n",
    "dsloc = ds.sel(Y=y, X=x, method = 'nearest')\n",
    "PT2=dsloc.to_dataframe()\n",
    "PT2[\"date\"]= PT2.index\n",
    "PT2[\"date\"] = pd.to_datetime(PT2[\"date\"]).dt.date\n",
    "PT2=PT2.reset_index(drop=True)\n",
    "\n",
    "\n",
    "#Import humidity dataset\n",
    "path = \"/home/Kristen/HydroElectric/Data/Climate/HySN_Near_Surface_Specific_Humidity_2017.nc\"\n",
    "ds = xr.open_dataset(path)  # NetCDF or OPeNDAP URL\n",
    "\n",
    "# Extract a dataset closest to specified point\n",
    "dsloc = ds.sel(Y=y, X=x, method = 'nearest')\n",
    "PT3=dsloc.to_dataframe()\n",
    "PT3[\"date\"]= PT3.index\n",
    "PT3[\"date\"] = pd.to_datetime(PT3[\"date\"]).dt.date\n",
    "PT3=PT3.reset_index(drop=True)\n"
   ]
  },
  {
   "cell_type": "code",
   "execution_count": 14,
   "id": "2d504bd5-2152-4204-b1df-b296c0b75d4b",
   "metadata": {},
   "outputs": [],
   "source": [
    "#Merge datasets together\n",
    "df1 = pd.merge(PT1, PT2, on=\"date\")\n",
    "df2 = pd.merge(PT3, PT4, on=\"date\")\n",
    "df = pd.merge(df1, df2, on=\"date\")\n",
    "df=df[[\"date\", \"rr\", \"tn\", \"tx\", \"huss\", \"rsds\"]]\n",
    "df = df.rename(columns={'rr': 'precip', 'tn': 'temp_min', 'tx': 'temp_max', 'huss': 'humidity_spec', 'rsds': 'radiation_sw'})\n",
    "df.to_csv(\"parameters.csv\")\n",
    "#Couldn't get date types to match to merge with streamflow data file so manually copid to streamflow datafile \n",
    "#for Jan 1, 2017 - Dec 31, 2017"
   ]
  }
 ],
 "metadata": {
  "kernelspec": {
   "display_name": "Python 3 (ipykernel)",
   "language": "python",
   "name": "python3"
  },
  "language_info": {
   "codemirror_mode": {
    "name": "ipython",
    "version": 3
   },
   "file_extension": ".py",
   "mimetype": "text/x-python",
   "name": "python",
   "nbconvert_exporter": "python",
   "pygments_lexer": "ipython3",
   "version": "3.9.12"
  }
 },
 "nbformat": 4,
 "nbformat_minor": 5
}
