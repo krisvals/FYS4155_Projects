{
 "cells": [
  {
   "cell_type": "markdown",
   "id": "a4ce596c",
   "metadata": {},
   "source": [
    "# Regression\n",
    "\n",
    "Tell about the code."
   ]
  },
  {
   "cell_type": "markdown",
   "id": "6bd20f3f",
   "metadata": {},
   "source": [
    "## Imports, data, and functions"
   ]
  },
  {
   "cell_type": "code",
   "execution_count": 9,
   "id": "7b4f4aac",
   "metadata": {
    "scrolled": true
   },
   "outputs": [
    {
     "data": {
      "text/html": [
       "<style>#sk-container-id-2 {color: black;}#sk-container-id-2 pre{padding: 0;}#sk-container-id-2 div.sk-toggleable {background-color: white;}#sk-container-id-2 label.sk-toggleable__label {cursor: pointer;display: block;width: 100%;margin-bottom: 0;padding: 0.3em;box-sizing: border-box;text-align: center;}#sk-container-id-2 label.sk-toggleable__label-arrow:before {content: \"▸\";float: left;margin-right: 0.25em;color: #696969;}#sk-container-id-2 label.sk-toggleable__label-arrow:hover:before {color: black;}#sk-container-id-2 div.sk-estimator:hover label.sk-toggleable__label-arrow:before {color: black;}#sk-container-id-2 div.sk-toggleable__content {max-height: 0;max-width: 0;overflow: hidden;text-align: left;background-color: #f0f8ff;}#sk-container-id-2 div.sk-toggleable__content pre {margin: 0.2em;color: black;border-radius: 0.25em;background-color: #f0f8ff;}#sk-container-id-2 input.sk-toggleable__control:checked~div.sk-toggleable__content {max-height: 200px;max-width: 100%;overflow: auto;}#sk-container-id-2 input.sk-toggleable__control:checked~label.sk-toggleable__label-arrow:before {content: \"▾\";}#sk-container-id-2 div.sk-estimator input.sk-toggleable__control:checked~label.sk-toggleable__label {background-color: #d4ebff;}#sk-container-id-2 div.sk-label input.sk-toggleable__control:checked~label.sk-toggleable__label {background-color: #d4ebff;}#sk-container-id-2 input.sk-hidden--visually {border: 0;clip: rect(1px 1px 1px 1px);clip: rect(1px, 1px, 1px, 1px);height: 1px;margin: -1px;overflow: hidden;padding: 0;position: absolute;width: 1px;}#sk-container-id-2 div.sk-estimator {font-family: monospace;background-color: #f0f8ff;border: 1px dotted black;border-radius: 0.25em;box-sizing: border-box;margin-bottom: 0.5em;}#sk-container-id-2 div.sk-estimator:hover {background-color: #d4ebff;}#sk-container-id-2 div.sk-parallel-item::after {content: \"\";width: 100%;border-bottom: 1px solid gray;flex-grow: 1;}#sk-container-id-2 div.sk-label:hover label.sk-toggleable__label {background-color: #d4ebff;}#sk-container-id-2 div.sk-serial::before {content: \"\";position: absolute;border-left: 1px solid gray;box-sizing: border-box;top: 0;bottom: 0;left: 50%;z-index: 0;}#sk-container-id-2 div.sk-serial {display: flex;flex-direction: column;align-items: center;background-color: white;padding-right: 0.2em;padding-left: 0.2em;position: relative;}#sk-container-id-2 div.sk-item {position: relative;z-index: 1;}#sk-container-id-2 div.sk-parallel {display: flex;align-items: stretch;justify-content: center;background-color: white;position: relative;}#sk-container-id-2 div.sk-item::before, #sk-container-id-2 div.sk-parallel-item::before {content: \"\";position: absolute;border-left: 1px solid gray;box-sizing: border-box;top: 0;bottom: 0;left: 50%;z-index: -1;}#sk-container-id-2 div.sk-parallel-item {display: flex;flex-direction: column;z-index: 1;position: relative;background-color: white;}#sk-container-id-2 div.sk-parallel-item:first-child::after {align-self: flex-end;width: 50%;}#sk-container-id-2 div.sk-parallel-item:last-child::after {align-self: flex-start;width: 50%;}#sk-container-id-2 div.sk-parallel-item:only-child::after {width: 0;}#sk-container-id-2 div.sk-dashed-wrapped {border: 1px dashed gray;margin: 0 0.4em 0.5em 0.4em;box-sizing: border-box;padding-bottom: 0.4em;background-color: white;}#sk-container-id-2 div.sk-label label {font-family: monospace;font-weight: bold;display: inline-block;line-height: 1.2em;}#sk-container-id-2 div.sk-label-container {text-align: center;}#sk-container-id-2 div.sk-container {/* jupyter's `normalize.less` sets `[hidden] { display: none; }` but bootstrap.min.css set `[hidden] { display: none !important; }` so we also need the `!important` here to be able to override the default hidden behavior on the sphinx rendered scikit-learn.org. See: https://github.com/scikit-learn/scikit-learn/issues/21755 */display: inline-block !important;position: relative;}#sk-container-id-2 div.sk-text-repr-fallback {display: none;}</style><div id=\"sk-container-id-2\" class=\"sk-top-container\"><div class=\"sk-text-repr-fallback\"><pre>StandardScaler()</pre><b>In a Jupyter environment, please rerun this cell to show the HTML representation or trust the notebook. <br />On GitHub, the HTML representation is unable to render, please try loading this page with nbviewer.org.</b></div><div class=\"sk-container\" hidden><div class=\"sk-item\"><div class=\"sk-estimator sk-toggleable\"><input class=\"sk-toggleable__control sk-hidden--visually\" id=\"sk-estimator-id-2\" type=\"checkbox\" checked><label for=\"sk-estimator-id-2\" class=\"sk-toggleable__label sk-toggleable__label-arrow\">StandardScaler</label><div class=\"sk-toggleable__content\"><pre>StandardScaler()</pre></div></div></div></div></div>"
      ],
      "text/plain": [
       "StandardScaler()"
      ]
     },
     "execution_count": 9,
     "metadata": {},
     "output_type": "execute_result"
    }
   ],
   "source": [
    "import pandas as pd\n",
    "import numpy as np\n",
    "import seaborn as sns\n",
    "\n",
    "from sklearn.ensemble import GradientBoostingRegressor\n",
    "from sklearn.ensemble import RandomForestRegressor\n",
    "\n",
    "from sklearn.model_selection import train_test_split\n",
    "from sklearn.model_selection import GridSearchCV\n",
    "from sklearn.metrics import mean_absolute_error, r2_score\n",
    "from sklearn.model_selection import cross_validate\n",
    "from sklearn.preprocessing import StandardScaler"
   ]
  },
  {
   "cell_type": "markdown",
   "id": "172bcdca",
   "metadata": {},
   "source": [
    "### Dataset"
   ]
  },
  {
   "cell_type": "code",
   "execution_count": null,
   "id": "dfecc8cb",
   "metadata": {},
   "outputs": [],
   "source": [
    "X = np.random.rand(100, 1)  # Feature\n",
    "y = 3 * X.squeeze() + 2 + np.random.randn(100)  # Target\n",
    "X_train, X_test, y_train, y_test=train_test_split(X,y,train_size = 0.8, test_size=0.2)\n",
    "scaler = StandardScaler()\n",
    "scaler.fit(X_train)"
   ]
  },
  {
   "cell_type": "markdown",
   "id": "1d996a25",
   "metadata": {},
   "source": [
    "## Gradient Boosting Regressor"
   ]
  },
  {
   "cell_type": "code",
   "execution_count": 10,
   "id": "08e4f40c",
   "metadata": {
    "scrolled": true
   },
   "outputs": [
    {
     "name": "stdout",
     "output_type": "stream",
     "text": [
      "Fitting 5 folds for each of 4 candidates, totalling 20 fits\n",
      "[CV 1/5] END learning_rate=0.4, n_estimators=250; neg_root_mean_squared_error: (test=-1.620) r2: (test=-0.481) total time=   0.0s\n",
      "[CV 2/5] END learning_rate=0.4, n_estimators=250; neg_root_mean_squared_error: (test=-1.848) r2: (test=-0.211) total time=   0.0s\n",
      "[CV 3/5] END learning_rate=0.4, n_estimators=250; neg_root_mean_squared_error: (test=-1.630) r2: (test=-1.352) total time=   0.0s\n",
      "[CV 4/5] END learning_rate=0.4, n_estimators=250; neg_root_mean_squared_error: (test=-1.362) r2: (test=-0.521) total time=   0.0s\n",
      "[CV 5/5] END learning_rate=0.4, n_estimators=250; neg_root_mean_squared_error: (test=-1.207) r2: (test=0.351) total time=   0.0s\n",
      "[CV 1/5] END learning_rate=0.4, n_estimators=300; neg_root_mean_squared_error: (test=-1.620) r2: (test=-0.481) total time=   0.0s\n",
      "[CV 2/5] END learning_rate=0.4, n_estimators=300; neg_root_mean_squared_error: (test=-1.848) r2: (test=-0.211) total time=   0.0s\n",
      "[CV 3/5] END learning_rate=0.4, n_estimators=300; neg_root_mean_squared_error: (test=-1.630) r2: (test=-1.352) total time=   0.0s\n",
      "[CV 4/5] END learning_rate=0.4, n_estimators=300; neg_root_mean_squared_error: (test=-1.362) r2: (test=-0.521) total time=   0.0s\n",
      "[CV 5/5] END learning_rate=0.4, n_estimators=300; neg_root_mean_squared_error: (test=-1.207) r2: (test=0.351) total time=   0.0s\n",
      "[CV 1/5] END learning_rate=0.5, n_estimators=250; neg_root_mean_squared_error: (test=-1.620) r2: (test=-0.481) total time=   0.0s\n",
      "[CV 2/5] END learning_rate=0.5, n_estimators=250; neg_root_mean_squared_error: (test=-1.848) r2: (test=-0.211) total time=   0.0s\n",
      "[CV 3/5] END learning_rate=0.5, n_estimators=250; neg_root_mean_squared_error: (test=-1.630) r2: (test=-1.352) total time=   0.0s\n",
      "[CV 4/5] END learning_rate=0.5, n_estimators=250; neg_root_mean_squared_error: (test=-1.362) r2: (test=-0.521) total time=   0.0s\n",
      "[CV 5/5] END learning_rate=0.5, n_estimators=250; neg_root_mean_squared_error: (test=-1.207) r2: (test=0.351) total time=   0.0s\n",
      "[CV 1/5] END learning_rate=0.5, n_estimators=300; neg_root_mean_squared_error: (test=-1.620) r2: (test=-0.481) total time=   0.0s\n",
      "[CV 2/5] END learning_rate=0.5, n_estimators=300; neg_root_mean_squared_error: (test=-1.848) r2: (test=-0.211) total time=   0.0s\n",
      "[CV 3/5] END learning_rate=0.5, n_estimators=300; neg_root_mean_squared_error: (test=-1.630) r2: (test=-1.352) total time=   0.0s\n",
      "[CV 4/5] END learning_rate=0.5, n_estimators=300; neg_root_mean_squared_error: (test=-1.362) r2: (test=-0.521) total time=   0.0s\n",
      "[CV 5/5] END learning_rate=0.5, n_estimators=300; neg_root_mean_squared_error: (test=-1.207) r2: (test=0.351) total time=   0.0s\n",
      "Mean Squared Error Test: 1.2006893661282407\n",
      "R2 Test: -1.1239670313395136\n"
     ]
    }
   ],
   "source": [
    "def GBR(n_estimators, learning_rate):\n",
    "    rf = GradientBoostingRegressor(random_state=1)\n",
    "    search_space = {\"n_estimators\":n_estimators,\"learning_rate\":learning_rate}\n",
    "    GS = GridSearchCV(estimator=rf,param_grid=search_space,scoring=[\"r2\",\"neg_root_mean_squared_error\"],refit=\"r2\",cv=5,verbose=4)\n",
    "    GS.fit(X_train,y_train)\n",
    "    best_model = GS.best_estimator_\n",
    "    y_pred_train = best_model.predict(X_train)\n",
    "    y_pred_test = best_model.predict(X_test)\n",
    "\n",
    "    # Evaluate the model\n",
    "    mse = mean_absolute_error(y_test, y_pred_test)\n",
    "    r2 = r2_score(y_test, y_pred_test)\n",
    "    print(f'Mean Squared Error Test: {mse}')\n",
    "    print(f'R2 Test: {r2}')\n",
    "\n",
    "GBR([250,300], [0.4,0.5])"
   ]
  },
  {
   "cell_type": "markdown",
   "id": "f2d43fd1",
   "metadata": {},
   "source": [
    "## Random Forest Regressor"
   ]
  },
  {
   "cell_type": "code",
   "execution_count": 11,
   "id": "a7d6a88d",
   "metadata": {},
   "outputs": [
    {
     "name": "stdout",
     "output_type": "stream",
     "text": [
      "Fitting 5 folds for each of 4 candidates, totalling 20 fits\n",
      "[CV 1/5] END max_depth=20, n_estimators=50; neg_root_mean_squared_error: (test=-1.438) r2: (test=-0.167) total time=   0.0s\n",
      "[CV 2/5] END max_depth=20, n_estimators=50; neg_root_mean_squared_error: (test=-1.533) r2: (test=0.166) total time=   0.0s\n",
      "[CV 3/5] END max_depth=20, n_estimators=50; neg_root_mean_squared_error: (test=-1.267) r2: (test=-0.422) total time=   0.0s\n",
      "[CV 4/5] END max_depth=20, n_estimators=50; neg_root_mean_squared_error: (test=-1.378) r2: (test=-0.556) total time=   0.0s\n",
      "[CV 5/5] END max_depth=20, n_estimators=50; neg_root_mean_squared_error: (test=-1.224) r2: (test=0.332) total time=   0.0s\n",
      "[CV 1/5] END max_depth=20, n_estimators=100; neg_root_mean_squared_error: (test=-1.438) r2: (test=-0.166) total time=   0.0s\n",
      "[CV 2/5] END max_depth=20, n_estimators=100; neg_root_mean_squared_error: (test=-1.577) r2: (test=0.119) total time=   0.0s\n",
      "[CV 3/5] END max_depth=20, n_estimators=100; neg_root_mean_squared_error: (test=-1.253) r2: (test=-0.390) total time=   0.0s\n",
      "[CV 4/5] END max_depth=20, n_estimators=100; neg_root_mean_squared_error: (test=-1.384) r2: (test=-0.572) total time=   0.0s\n",
      "[CV 5/5] END max_depth=20, n_estimators=100; neg_root_mean_squared_error: (test=-1.212) r2: (test=0.345) total time=   0.0s\n",
      "[CV 1/5] END max_depth=30, n_estimators=50; neg_root_mean_squared_error: (test=-1.438) r2: (test=-0.167) total time=   0.0s\n",
      "[CV 2/5] END max_depth=30, n_estimators=50; neg_root_mean_squared_error: (test=-1.533) r2: (test=0.166) total time=   0.0s\n",
      "[CV 3/5] END max_depth=30, n_estimators=50; neg_root_mean_squared_error: (test=-1.267) r2: (test=-0.422) total time=   0.0s\n",
      "[CV 4/5] END max_depth=30, n_estimators=50; neg_root_mean_squared_error: (test=-1.378) r2: (test=-0.556) total time=   0.0s\n",
      "[CV 5/5] END max_depth=30, n_estimators=50; neg_root_mean_squared_error: (test=-1.224) r2: (test=0.332) total time=   0.0s\n",
      "[CV 1/5] END max_depth=30, n_estimators=100; neg_root_mean_squared_error: (test=-1.438) r2: (test=-0.166) total time=   0.0s\n",
      "[CV 2/5] END max_depth=30, n_estimators=100; neg_root_mean_squared_error: (test=-1.577) r2: (test=0.119) total time=   0.0s\n",
      "[CV 3/5] END max_depth=30, n_estimators=100; neg_root_mean_squared_error: (test=-1.253) r2: (test=-0.390) total time=   0.0s\n",
      "[CV 4/5] END max_depth=30, n_estimators=100; neg_root_mean_squared_error: (test=-1.384) r2: (test=-0.572) total time=   0.0s\n",
      "[CV 5/5] END max_depth=30, n_estimators=100; neg_root_mean_squared_error: (test=-1.212) r2: (test=0.345) total time=   0.0s\n",
      "Mean Squared Error Test: 0.9373886975984048\n",
      "R2 Test: -0.38643379723181237\n"
     ]
    }
   ],
   "source": [
    "def RFR(n_estimators, max_depth):\n",
    "    rf = RandomForestRegressor(random_state=1)\n",
    "    search_space = {\"n_estimators\":n_estimators,\"max_depth\":max_depth}\n",
    "    GS = GridSearchCV(estimator=rf,param_grid=search_space,scoring=[\"r2\",\"neg_root_mean_squared_error\"],refit=\"r2\",cv=5,verbose=4)\n",
    "    GS.fit(X_train,y_train)\n",
    "    best_model = GS.best_estimator_\n",
    "    y_pred_train = best_model.predict(X_train)\n",
    "    y_pred_test = best_model.predict(X_test)\n",
    "\n",
    "    # Evaluate the model\n",
    "    mse = mean_absolute_error(y_test, y_pred_test)\n",
    "    r2 = r2_score(y_test, y_pred_test)\n",
    "    print(f'Mean Squared Error Test: {mse}')\n",
    "    print(f'R2 Test: {r2}')\n",
    "\n",
    "RFR([50,100], [20,30])"
   ]
  }
 ],
 "metadata": {
  "kernelspec": {
   "display_name": "Python 3 (ipykernel)",
   "language": "python",
   "name": "python3"
  },
  "language_info": {
   "codemirror_mode": {
    "name": "ipython",
    "version": 3
   },
   "file_extension": ".py",
   "mimetype": "text/x-python",
   "name": "python",
   "nbconvert_exporter": "python",
   "pygments_lexer": "ipython3",
   "version": "3.11.4"
  }
 },
 "nbformat": 4,
 "nbformat_minor": 5
}
